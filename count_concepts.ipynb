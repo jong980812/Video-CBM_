{
 "cells": [
  {
   "cell_type": "code",
   "execution_count": 2,
   "metadata": {},
   "outputs": [
    {
     "name": "stdout",
     "output_type": "stream",
     "text": [
      "shed\n",
      "fishing\n",
      "money\n",
      "ballet\n",
      "dirt\n",
      "burger\n",
      "spaghetti\n",
      "fire\n",
      "kite\n",
      "paper\n",
      "throwing discus\n",
      "hugging\n",
      "massage\n",
      "cello\n",
      "drummer\n",
      "flute\n",
      "guitar\n",
      "piano\n",
      "trumpet\n",
      "violin\n",
      "basketball\n",
      "punching bag\n",
      "push up\n",
      "wheelchair\n",
      "elephant\n",
      "treadmill\n",
      "sharpening\n",
      "shovel\n",
      "unboxing\n",
      "applauding\n",
      "spray paint\n",
      "diving\n",
      "surfing\n",
      "floor\n",
      "shower\n",
      "ballet\n",
      "tie\n",
      "welding\n",
      "Spatio count: 100\n",
      "Temporal count: 38\n"
     ]
    }
   ],
   "source": [
    "# 파일 경로 설정\n",
    "output_file = '/data/jong980812/project/Video-CBM/results/k100/vmae/llava_spatio/output.txt'\n",
    "spatio_file = '/data/jong980812/project/Video-CBM/data/concept_sets/llava_ver1/llava_ver1_spatio_k400.txt'\n",
    "temporal_file = '/data/jong980812/project/Video-CBM/data/concept_sets/llava_ver1/llava_ver1_temporal_k400.txt'\n",
    "\n",
    "# spatio와 temporal 파일에서 단어 목록 불러오기\n",
    "with open(spatio_file, 'r') as f:\n",
    "    spatio_words = set(line.strip() for line in f)\n",
    "\n",
    "with open(temporal_file, 'r') as f:\n",
    "    temporal_words = set(line.strip() for line in f)\n",
    "\n",
    "# output.txt에서 각 클래스별로 첫 번째 단어 추출\n",
    "class_highest_words = []\n",
    "with open(output_file, 'r') as f:\n",
    "    for line in f:\n",
    "        if 'Highest weights:' in line:\n",
    "            highest_weights_line = line.split('Highest weights:')[-1]\n",
    "            first_word = highest_weights_line.split(':')[0].strip()\n",
    "            class_highest_words.append(first_word)\n",
    "\n",
    "# spatio와 temporal에서 각 단어가 몇 번 등장하는지 계산\n",
    "spatio_count = 0\n",
    "temporal_count = 0\n",
    "\n",
    "for word in class_highest_words:\n",
    "    if word in spatio_words:\n",
    "        spatio_count += 1\n",
    "    if word in temporal_words:\n",
    "        print(word)\n",
    "        temporal_count += 1\n",
    "\n",
    "# 결과 출력\n",
    "print(f\"Spatio count: {spatio_count}\")\n",
    "print(f\"Temporal count: {temporal_count}\")"
   ]
  },
  {
   "cell_type": "code",
   "execution_count": null,
   "metadata": {},
   "outputs": [],
   "source": []
  }
 ],
 "metadata": {
  "kernelspec": {
   "display_name": "video-cbm",
   "language": "python",
   "name": "python3"
  },
  "language_info": {
   "codemirror_mode": {
    "name": "ipython",
    "version": 3
   },
   "file_extension": ".py",
   "mimetype": "text/x-python",
   "name": "python",
   "nbconvert_exporter": "python",
   "pygments_lexer": "ipython3",
   "version": "3.8.19"
  }
 },
 "nbformat": 4,
 "nbformat_minor": 2
}
