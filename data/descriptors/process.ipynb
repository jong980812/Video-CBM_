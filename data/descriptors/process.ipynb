{
 "cells": [
  {
   "cell_type": "code",
   "execution_count": 6,
   "metadata": {},
   "outputs": [
    {
     "name": "stdout",
     "output_type": "stream",
     "text": [
      "텍스트 파일로 저장 완료.\n"
     ]
    }
   ],
   "source": [
    "import json\n",
    "\n",
    "# JSON 데이터 (실제로는 파일로부터 읽어옵니다)\n",
    "json_file_path = \"/data/jong980812/project/Video-CBM/data/descriptors/k400/temporal_descriptors/8_descriptors.json\"\n",
    "\n",
    "# JSON 파일 읽기\n",
    "with open(json_file_path, \"r\") as json_file:\n",
    "    json_data = json.load(json_file)\n",
    "\n",
    "# 모든 value들을 텍스트로 저장\n",
    "with open(\"/data/jong980812/project/Video-CBM/data/descriptors/k400/temporal_descriptors/8_descriptors.txt\", \"w\") as file:\n",
    "    for key in json_data:\n",
    "        for value in json_data[key]:\n",
    "            file.write(value + \"\\n\")\n",
    "\n",
    "print(\"텍스트 파일로 저장 완료.\")"
   ]
  },
  {
   "cell_type": "code",
   "execution_count": null,
   "metadata": {},
   "outputs": [],
   "source": []
  }
 ],
 "metadata": {
  "kernelspec": {
   "display_name": "video-cbm",
   "language": "python",
   "name": "python3"
  },
  "language_info": {
   "codemirror_mode": {
    "name": "ipython",
    "version": 3
   },
   "file_extension": ".py",
   "mimetype": "text/x-python",
   "name": "python",
   "nbconvert_exporter": "python",
   "pygments_lexer": "ipython3",
   "version": "3.8.19"
  }
 },
 "nbformat": 4,
 "nbformat_minor": 2
}
